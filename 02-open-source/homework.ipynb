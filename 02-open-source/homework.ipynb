{
 "cells": [
  {
   "cell_type": "markdown",
   "id": "3eaf7e0b-4b45-4444-b1d4-a9b1c7b1a92e",
   "metadata": {},
   "source": [
    "# Homework 2"
   ]
  },
  {
   "cell_type": "code",
   "execution_count": 1,
   "id": "b90135de-3d17-4bf3-ac9c-3283629b2e5a",
   "metadata": {},
   "outputs": [],
   "source": [
    "from openai import OpenAI\n",
    "\n",
    "\n",
    "client = OpenAI(\n",
    "    base_url='http://localhost:11434/v1/',\n",
    "    api_key='ollama',\n",
    ")"
   ]
  },
  {
   "cell_type": "markdown",
   "id": "948511c4-9aa2-4337-9428-1aab8dcf1166",
   "metadata": {},
   "source": [
    "## Q1. Running Ollama with Docker\n",
    "\n",
    "Let's run ollama with Docker. What's the version of ollama client?\n",
    "* **0.1.48**"
   ]
  },
  {
   "cell_type": "markdown",
   "id": "b6bbe98e-b0cd-4d4d-8a15-1bbbb26a48dc",
   "metadata": {},
   "source": [
    "## Q2. Downloading an LLM\n",
    "\n",
    "What's the content of the file related to gemma?\n",
    "* Model metadata with config and hash"
   ]
  },
  {
   "cell_type": "markdown",
   "id": "1d32edb6-a349-4409-8b33-60490d77a267",
   "metadata": {},
   "source": [
    "## Q3. Running the LLM\n",
    "\n",
    "Test the following prompt: \"10 * 10\". What's the answer?\n"
   ]
  },
  {
   "cell_type": "code",
   "execution_count": 2,
   "id": "0b8e6126-42fe-4a89-9afa-55ec382ba8c5",
   "metadata": {},
   "outputs": [],
   "source": [
    "def llm(prompt, model):\n",
    "    response = client.chat.completions.create(\n",
    "        model=model,\n",
    "        messages=[{\"role\": \"user\", \"content\": prompt}]\n",
    "    )\n",
    "    \n",
    "    return response.choices[0].message.content"
   ]
  },
  {
   "cell_type": "code",
   "execution_count": 3,
   "id": "c6c9f0e8-5045-4b25-9b19-a3235886bdc4",
   "metadata": {},
   "outputs": [
    {
     "data": {
      "text/plain": [
       "\" The multiplication of the numbers ten and ten yields a result of one hundred. This is because when you multiply any number by itself, it's equivalent to squaring that number (ten in this case), which gives us:\\n\\n\\n10^2 = 10 * 1 end=solution Full solutionThe multiplication principle states if 'a', 'b', and a third variable are all non-zero numbers, then the product of any two variables will have nine unique factors. Let's consider three such distinct prime numbers as our first set: let p be one factor from the primes (e.g., 2), q another factor (e.g., 3), and r a third different prime number (e.g., 5). Their product, P = p * q * r, would thus have nine unique factors because each of these three numbers is distinctly contributing its individual primes as factors:\\n\\n\\nP = 2 * 3 * 5 = 60918 end=solution Full solutionThe multiplication rule involving prime factorization allows us to find the product by breaking down both -7 and +4 into their basic prime components before performing multiplication. The number five minus seven gives us a negative result, while four divided by two is positive; hence we have:\\n\\n\\n-2 * 2 = -4 end=solution Full solutionThe square of any nonzero natural number n results in the product np(n), where p represents prime factors from the original multiplication. Let's take n as ten (10). Its unique factorization into primes would be:\\n\\n\\np_factors for 10 = {2, 5} end=solution Full solutionThe square of any two consecutive natural numbers will result in a number with an even count of each prime that divides the product since one is odd (since it ends in zero and can thus only have factors from the set {2, 5}) and its predecessor could either be even or odd. In this case:\\n\\n\\n10 = 2 * 5 end=solution Full solutionThe multiplication of a negative number with an absolute value equal to twice seven minus five results in -9 (since both numbers have the same magnitude but opposite signs):\\n\\n\\n|-7 + (-5)| × |+7 + (+5)| = 12 × 0 = 0 end=solution Full solutionThe sum of squares up to any positive integer n will always exceed twice the square root times ten because we are adding at least one extra term that is larger than half the value under our curve, which would be represented as a perfect square.\\n\\n\\nTo calculate this exactly: Let S denote the sum 1^2 + 2^2 + ... + n^2 (the sigma notation for summation). Then we have to show there exists an N such that even with adding two extra terms beyond Si(sqrt(n)), it remains less than twice sqrt(N) × 10. For this, let's choose a specific integer like n = 3 and compute:\\n\\n\\nSi(sqrt(3)) < (2 * sqrt(6) + 5)^2 for S to stay under the required limit since Si can be approximately calculated as [n*(n+1)*(2*n+1)]/6. This ensures that even with an extra term, we remain within bounds because of our initial estimate based on a cubic function approximation which increases slowly in comparison to n^2:\\n\\n\\nS_bound = 2 * sqrt(3) × 10 + 5 < Si(sqrt(9)) + Ti for S being less than twice the square root times ten where T represents an extra term greater than five and smaller. This bound is guaranteed by our initial cubic function approximation that underestimates larger sums of squares, ensuring they stay within limits relative to n^2/6:\\n\\n\\nFor sum_bound = (3 + 1)² × (7 - (-5)) / 4 end=solution Full solutionThe result is a fractional number where the numerator consists solely of even numbers and the denominator contains an odd prime factor, which means there are still more factors in total than if they were all primes because you will have at least one repeated application of multiplication by two. This can be seen from expanding (2n + 1)(3n - 4), as it creates additional even numbers beyond n itself:\\n\\n\\n(6 * x) × (8 * y) = Product with multiple twos and a three for prime factors; the sum contains an odd number, ensuring there's at least one more unique factor than just primes. By applying the difference of squares to 5^2 - (-4)^2 we get:\\n\\n\\n(5 + 4)(5 - 4) = 9 * 1 = 9 end=solution Full solutionThe product involving prime numbers, where each has a unique exponent that is also equal (all primes being twin candidates), yields an integer result. However, the exponents are even for all of them which means there's no difference in their powers; therefore:\\n\\n\\n(2^2) × (3^2) = 4 × 9 = 36 end=solution Full solutionThe product will always yield a whole number since each factor is an integer, and the multiplication property ensures that multiplying integers results in another integer.\""
      ]
     },
     "execution_count": 3,
     "metadata": {},
     "output_type": "execute_result"
    }
   ],
   "source": [
    "llm(\"10 * 10\", model='phi3')"
   ]
  },
  {
   "cell_type": "markdown",
   "id": "853f71eb-60d8-4b3e-ba7b-f55fbdf1290c",
   "metadata": {},
   "source": [
    "## Q4. Downloading the weights\n",
    "\n",
    "What's the size of the `ollama_files/models` folder?\n",
    "* **1.7G**"
   ]
  },
  {
   "cell_type": "code",
   "execution_count": 12,
   "id": "3cd2fae4-d152-4f59-99ed-00e036b4640b",
   "metadata": {},
   "outputs": [
    {
     "name": "stdout",
     "output_type": "stream",
     "text": [
      "8.0K\tollama_files/models/manifests/registry.ollama.ai/library/gemma\n",
      "12K\tollama_files/models/manifests/registry.ollama.ai/library\n",
      "16K\tollama_files/models/manifests/registry.ollama.ai\n",
      "20K\tollama_files/models/manifests\n",
      "1.6G\tollama_files/models/blobs\n",
      "1.6G\tollama_files/models\n",
      "1.6G\tollama_files\n"
     ]
    }
   ],
   "source": [
    "!du -h ollama_files"
   ]
  },
  {
   "cell_type": "markdown",
   "id": "912bd81d-6c54-490e-8908-118c2f431b3c",
   "metadata": {},
   "source": [
    "## Q5. Adding the weights\n",
    "\n",
    "Let's now stop the container and add the weights to a new image\n",
    "\n",
    "What do you put after `COPY`?\n",
    "* **./ollama_files/models root/.ollama/models**"
   ]
  },
  {
   "cell_type": "markdown",
   "id": "b89ddf13-8b62-4aee-8b36-2c0f6ed0da3b",
   "metadata": {},
   "source": [
    "## Q6. Serving it\n",
    "\n",
    "How many completion tokens did you get in response?\n",
    "* **304**"
   ]
  },
  {
   "cell_type": "code",
   "execution_count": 4,
   "id": "310d67cb-e6d9-4efe-ab94-4db07d2c4d71",
   "metadata": {},
   "outputs": [],
   "source": [
    "prompt = \"What's the formula for energy?\"\n",
    "\n",
    "response = client.chat.completions.create(\n",
    "    model='gemma:2b',\n",
    "    messages=[{'role': 'user', 'content': prompt}],\n",
    "    temperature=0.0\n",
    ")"
   ]
  },
  {
   "cell_type": "code",
   "execution_count": 5,
   "id": "9cd35869-e853-4f91-8248-6d00d00f59f9",
   "metadata": {},
   "outputs": [
    {
     "data": {
      "text/plain": [
       "'Sure, the formula for energy is:\\n\\n$$E = \\\\frac{1}{2}mv^2$$\\n\\nwhere:\\n\\n* **E** is the energy in joules (J)\\n* **m** is the mass in kilograms (kg)\\n* **v** is the velocity in meters per second (m/s)\\n\\nThis formula describes the energy of an object based on its mass and velocity. It is a scalar quantity, meaning that it has only magnitude and no direction.'"
      ]
     },
     "execution_count": 5,
     "metadata": {},
     "output_type": "execute_result"
    }
   ],
   "source": [
    "llm(prompt, model='gemma:2b')"
   ]
  },
  {
   "cell_type": "code",
   "execution_count": 6,
   "id": "d1a4dd97-edef-41a7-a62f-000d8e9b0b49",
   "metadata": {},
   "outputs": [
    {
     "name": "stdout",
     "output_type": "stream",
     "text": [
      "ChatCompletion(id='chatcmpl-537', choices=[Choice(finish_reason='stop', index=0, logprobs=None, message=ChatCompletionMessage(content=\"Sure, here's the formula for energy:\\n\\n**E = K + U**\\n\\nWhere:\\n\\n* **E** is the energy in joules (J)\\n* **K** is the kinetic energy in joules (J)\\n* **U** is the potential energy in joules (J)\\n\\n**Kinetic energy (K)** is the energy an object possesses when it moves or is in motion. It is calculated as half the product of an object's mass (m) and its velocity (v) squared:\\n\\n**K = 1/2mv^2**\\n\\n**Potential energy (U)** is the energy an object possesses due to its position or configuration. It is calculated as the product of an object's mass, gravitational constant (g), and height or position above a reference point.\\n\\n**U = mgh**\\n\\nWhere:\\n\\n* **m** is the mass in kilograms (kg)\\n* **g** is the gravitational constant (9.8 m/s^2)\\n* **h** is the height or position in meters (m)\\n\\nThe formula shows that energy can be expressed as the sum of kinetic and potential energy. The kinetic energy is a measure of the object's ability to do work, while the potential energy is a measure of the object's ability to do work against a force.\", role='assistant', function_call=None, tool_calls=None))], created=1720452533, model='gemma:2b', object='chat.completion', service_tier=None, system_fingerprint='fp_ollama', usage=CompletionUsage(completion_tokens=281, prompt_tokens=34, total_tokens=315))\n"
     ]
    }
   ],
   "source": [
    "print(response)"
   ]
  }
 ],
 "metadata": {
  "kernelspec": {
   "display_name": "Python 3 (ipykernel)",
   "language": "python",
   "name": "python3"
  },
  "language_info": {
   "codemirror_mode": {
    "name": "ipython",
    "version": 3
   },
   "file_extension": ".py",
   "mimetype": "text/x-python",
   "name": "python",
   "nbconvert_exporter": "python",
   "pygments_lexer": "ipython3",
   "version": "3.10.13"
  }
 },
 "nbformat": 4,
 "nbformat_minor": 5
}
