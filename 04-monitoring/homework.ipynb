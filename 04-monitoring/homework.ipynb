{
 "cells": [
  {
   "cell_type": "markdown",
   "id": "a3cffbb0-c3ac-426f-a958-f23b59a662aa",
   "metadata": {},
   "source": [
    "# Homework 4: Evaluation and Monitoring"
   ]
  },
  {
   "cell_type": "code",
   "execution_count": 1,
   "id": "e5696072-00a3-476d-a7c3-3b48a118deab",
   "metadata": {},
   "outputs": [],
   "source": [
    "import pandas as pd\n",
    "\n",
    "github_url = 'https://github.com/DataTalksClub/llm-zoomcamp/blob/main/04-monitoring/data/results-gpt4o-mini.csv'\n",
    "url = f'{github_url}?raw=1'\n",
    "df = pd.read_csv(url)"
   ]
  },
  {
   "cell_type": "code",
   "execution_count": 2,
   "id": "c806f23f-1d33-4e40-96be-9df8ed63946a",
   "metadata": {},
   "outputs": [
    {
     "data": {
      "text/html": [
       "<div>\n",
       "<style scoped>\n",
       "    .dataframe tbody tr th:only-of-type {\n",
       "        vertical-align: middle;\n",
       "    }\n",
       "\n",
       "    .dataframe tbody tr th {\n",
       "        vertical-align: top;\n",
       "    }\n",
       "\n",
       "    .dataframe thead th {\n",
       "        text-align: right;\n",
       "    }\n",
       "</style>\n",
       "<table border=\"1\" class=\"dataframe\">\n",
       "  <thead>\n",
       "    <tr style=\"text-align: right;\">\n",
       "      <th></th>\n",
       "      <th>answer_llm</th>\n",
       "      <th>answer_orig</th>\n",
       "      <th>document</th>\n",
       "      <th>question</th>\n",
       "      <th>course</th>\n",
       "    </tr>\n",
       "  </thead>\n",
       "  <tbody>\n",
       "    <tr>\n",
       "      <th>0</th>\n",
       "      <td>You can sign up for the course by visiting the...</td>\n",
       "      <td>Machine Learning Zoomcamp FAQ\\nThe purpose of ...</td>\n",
       "      <td>0227b872</td>\n",
       "      <td>Where can I sign up for the course?</td>\n",
       "      <td>machine-learning-zoomcamp</td>\n",
       "    </tr>\n",
       "    <tr>\n",
       "      <th>1</th>\n",
       "      <td>You can sign up using the link provided in the...</td>\n",
       "      <td>Machine Learning Zoomcamp FAQ\\nThe purpose of ...</td>\n",
       "      <td>0227b872</td>\n",
       "      <td>Can you provide a link to sign up?</td>\n",
       "      <td>machine-learning-zoomcamp</td>\n",
       "    </tr>\n",
       "    <tr>\n",
       "      <th>2</th>\n",
       "      <td>Yes, there is an FAQ for the Machine Learning ...</td>\n",
       "      <td>Machine Learning Zoomcamp FAQ\\nThe purpose of ...</td>\n",
       "      <td>0227b872</td>\n",
       "      <td>Is there an FAQ for this Machine Learning course?</td>\n",
       "      <td>machine-learning-zoomcamp</td>\n",
       "    </tr>\n",
       "    <tr>\n",
       "      <th>3</th>\n",
       "      <td>The context does not provide any specific info...</td>\n",
       "      <td>Machine Learning Zoomcamp FAQ\\nThe purpose of ...</td>\n",
       "      <td>0227b872</td>\n",
       "      <td>Does this course have a GitHub repository for ...</td>\n",
       "      <td>machine-learning-zoomcamp</td>\n",
       "    </tr>\n",
       "    <tr>\n",
       "      <th>4</th>\n",
       "      <td>To structure your questions and answers for th...</td>\n",
       "      <td>Machine Learning Zoomcamp FAQ\\nThe purpose of ...</td>\n",
       "      <td>0227b872</td>\n",
       "      <td>How can I structure my questions and answers f...</td>\n",
       "      <td>machine-learning-zoomcamp</td>\n",
       "    </tr>\n",
       "  </tbody>\n",
       "</table>\n",
       "</div>"
      ],
      "text/plain": [
       "                                          answer_llm  \\\n",
       "0  You can sign up for the course by visiting the...   \n",
       "1  You can sign up using the link provided in the...   \n",
       "2  Yes, there is an FAQ for the Machine Learning ...   \n",
       "3  The context does not provide any specific info...   \n",
       "4  To structure your questions and answers for th...   \n",
       "\n",
       "                                         answer_orig  document  \\\n",
       "0  Machine Learning Zoomcamp FAQ\\nThe purpose of ...  0227b872   \n",
       "1  Machine Learning Zoomcamp FAQ\\nThe purpose of ...  0227b872   \n",
       "2  Machine Learning Zoomcamp FAQ\\nThe purpose of ...  0227b872   \n",
       "3  Machine Learning Zoomcamp FAQ\\nThe purpose of ...  0227b872   \n",
       "4  Machine Learning Zoomcamp FAQ\\nThe purpose of ...  0227b872   \n",
       "\n",
       "                                            question  \\\n",
       "0                Where can I sign up for the course?   \n",
       "1                 Can you provide a link to sign up?   \n",
       "2  Is there an FAQ for this Machine Learning course?   \n",
       "3  Does this course have a GitHub repository for ...   \n",
       "4  How can I structure my questions and answers f...   \n",
       "\n",
       "                      course  \n",
       "0  machine-learning-zoomcamp  \n",
       "1  machine-learning-zoomcamp  \n",
       "2  machine-learning-zoomcamp  \n",
       "3  machine-learning-zoomcamp  \n",
       "4  machine-learning-zoomcamp  "
      ]
     },
     "execution_count": 2,
     "metadata": {},
     "output_type": "execute_result"
    }
   ],
   "source": [
    "df = df.iloc[:300]\n",
    "df.head()"
   ]
  },
  {
   "cell_type": "markdown",
   "id": "fec0f10a-e49c-44fa-a14d-07745db0e666",
   "metadata": {},
   "source": [
    "## Q1. Getting the embeddings model\n",
    "\n",
    "Now, get the embeddings model `multi-qa-mpnet-base-dot-v1` from the [Sentence Transformer library](https://www.sbert.net/docs/sentence_transformer/pretrained_models.html#model-overview)\n",
    "\n",
    "What's the first value of the resulting vector?\n",
    "* **-0.42**"
   ]
  },
  {
   "cell_type": "code",
   "execution_count": 3,
   "id": "d6957823-3871-4b0c-b67b-17ddad2a44f0",
   "metadata": {},
   "outputs": [
    {
     "name": "stderr",
     "output_type": "stream",
     "text": [
      "/usr/local/python/3.10.13/lib/python3.10/site-packages/sentence_transformers/cross_encoder/CrossEncoder.py:11: TqdmWarning: IProgress not found. Please update jupyter and ipywidgets. See https://ipywidgets.readthedocs.io/en/stable/user_install.html\n",
      "  from tqdm.autonotebook import tqdm, trange\n"
     ]
    }
   ],
   "source": [
    "from sentence_transformers import SentenceTransformer\n",
    "\n",
    "embedding_model = SentenceTransformer('multi-qa-mpnet-base-dot-v1')\n",
    "answer_llm = df.iloc[0].answer_llm\n",
    "v_llm = embedding_model.encode(answer_llm)"
   ]
  },
  {
   "cell_type": "code",
   "execution_count": 4,
   "id": "b43a6282-af10-4ea4-b43c-1551f7093492",
   "metadata": {},
   "outputs": [
    {
     "data": {
      "text/plain": [
       "-0.42244655"
      ]
     },
     "execution_count": 4,
     "metadata": {},
     "output_type": "execute_result"
    }
   ],
   "source": [
    "v_llm[0]"
   ]
  },
  {
   "cell_type": "markdown",
   "id": "90645c8e-5f7a-4178-91d6-6c83f746a6dc",
   "metadata": {},
   "source": [
    "## Q2. Computing the dot product\n",
    "\n",
    "Now for each answer pair, let's create embeddings and compute dot product between them. We will put the results (scores) into the evaluations list\n",
    "\n",
    "What's the 75% percentile of the score?\n",
    "* **31.67**"
   ]
  },
  {
   "cell_type": "code",
   "execution_count": 5,
   "id": "2414fe5f-9d2a-4e24-a69b-78502e748039",
   "metadata": {},
   "outputs": [],
   "source": [
    "def compute_cos_similarity(record):\n",
    "    answer_orig = record['answer_orig']\n",
    "    answer_llm = record['answer_llm']\n",
    "    \n",
    "    v_orig = embedding_model.encode(answer_orig)\n",
    "    v_llm = embedding_model.encode(answer_llm)\n",
    "    \n",
    "    return v_llm.dot(v_orig)"
   ]
  },
  {
   "cell_type": "code",
   "execution_count": 6,
   "id": "e229fad7-12fa-44de-8a4b-8f112e26ef50",
   "metadata": {},
   "outputs": [
    {
     "data": {
      "text/plain": [
       "{'answer_llm': 'You can sign up for the course by visiting the course page at [http://mlzoomcamp.com/](http://mlzoomcamp.com/).',\n",
       " 'answer_orig': 'Machine Learning Zoomcamp FAQ\\nThe purpose of this document is to capture frequently asked technical questions.\\nWe did this for our data engineering course and it worked quite well. Check this document for inspiration on how to structure your questions and answers:\\nData Engineering Zoomcamp FAQ\\nIn the course GitHub repository there’s a link. Here it is: https://airtable.com/shryxwLd0COOEaqXo\\nwork',\n",
       " 'document': '0227b872',\n",
       " 'question': 'Where can I sign up for the course?',\n",
       " 'course': 'machine-learning-zoomcamp'}"
      ]
     },
     "execution_count": 6,
     "metadata": {},
     "output_type": "execute_result"
    }
   ],
   "source": [
    "from tqdm import tqdm\n",
    "\n",
    "results = df.to_dict(orient='records')\n",
    "results[0]"
   ]
  },
  {
   "cell_type": "code",
   "execution_count": 7,
   "id": "2428d10a-ddac-41f5-b9d2-b70b1bb58fe3",
   "metadata": {},
   "outputs": [
    {
     "name": "stderr",
     "output_type": "stream",
     "text": [
      "100%|█████████████████████████████████████████████████████████████████████████████████████| 300/300 [02:22<00:00,  2.11it/s]\n"
     ]
    }
   ],
   "source": [
    "evaluations = []\n",
    "\n",
    "for record in tqdm(results):\n",
    "    cos_sim = compute_cos_similarity(record)\n",
    "    evaluations.append(cos_sim)"
   ]
  },
  {
   "cell_type": "code",
   "execution_count": 8,
   "id": "860d8da9-caa4-440f-adef-d13f2d1f333f",
   "metadata": {},
   "outputs": [
    {
     "data": {
      "text/plain": [
       "31.67430877685547"
      ]
     },
     "execution_count": 8,
     "metadata": {},
     "output_type": "execute_result"
    }
   ],
   "source": [
    "import numpy as np\n",
    "\n",
    "np.quantile(evaluations, 0.75)"
   ]
  },
  {
   "cell_type": "markdown",
   "id": "ef7e7bad-2b0b-4949-87e7-913cc99b74a0",
   "metadata": {},
   "source": [
    "## Q3. Computing the cosine\n",
    "\n",
    "From Q2, we can see that the results are not within the [0, 1] range. It's because the vectors coming from this model are not normalized. So we need to normalize them.\n",
    "\n",
    "To do it, we\n",
    "* Compute the norm of a vector\n",
    "* Divide each element by this norm\n",
    "\n",
    "Let's put it into a function and then compute dot product between normalized vectors. This will give us cosine similarity.\n",
    "\n",
    "What's the 75% cosine in the scores?\n",
    "* **0.83**"
   ]
  },
  {
   "cell_type": "code",
   "execution_count": 9,
   "id": "16eba603-3156-4569-be00-9b291ab9130f",
   "metadata": {},
   "outputs": [],
   "source": [
    "def compute_cos_similarity_norm(record):\n",
    "    answer_orig = record['answer_orig']\n",
    "    answer_llm = record['answer_llm']\n",
    "    \n",
    "    v_orig = embedding_model.encode(answer_orig)\n",
    "    norm_orig = np.sqrt((v_orig * v_orig).sum())\n",
    "    v_orig_norm = v_orig / norm_orig\n",
    "    \n",
    "    v_llm = embedding_model.encode(answer_llm)\n",
    "    norm_llm = np.sqrt((v_llm * v_llm).sum())\n",
    "    v_llm_norm = v_llm / norm_llm\n",
    "\n",
    "    return v_llm_norm.dot(v_orig_norm)"
   ]
  },
  {
   "cell_type": "code",
   "execution_count": 10,
   "id": "d3f6f180-77bc-4b17-b984-a94d5da50ee3",
   "metadata": {},
   "outputs": [
    {
     "name": "stderr",
     "output_type": "stream",
     "text": [
      "100%|█████████████████████████████████████████████████████████████████████████████████████| 300/300 [02:22<00:00,  2.10it/s]\n"
     ]
    }
   ],
   "source": [
    "evaluations_norm = []\n",
    "\n",
    "for record in tqdm(results):\n",
    "    cos_sim_norm = compute_cos_similarity_norm(record)\n",
    "    evaluations_norm.append(cos_sim_norm)"
   ]
  },
  {
   "cell_type": "code",
   "execution_count": 11,
   "id": "584cbfa8-e118-4b04-9dd7-0df86660eb2b",
   "metadata": {},
   "outputs": [
    {
     "data": {
      "text/plain": [
       "0.8362348973751068"
      ]
     },
     "execution_count": 11,
     "metadata": {},
     "output_type": "execute_result"
    }
   ],
   "source": [
    "np.quantile(evaluations_norm, 0.75)"
   ]
  },
  {
   "cell_type": "markdown",
   "id": "10be2273-97f0-4616-b799-5b95882826dc",
   "metadata": {},
   "source": [
    "## Q4. Rouge\n",
    "\n",
    "Now we will explore an alternative metric - the ROUGE score. This is a set of metrics that compares two answers based on the overlap of n-grams, word sequences, and word pairs. It can give a more nuanced view of text similarity than just cosine similarity alone.\n",
    "\n",
    "Let's compute the ROUGE score between the answers at the index 10 of our dataframe (`doc_id=5170565b`)\n",
    "\n",
    "There are three scores: `rouge-1`, `rouge-2`, and `rouge-l`; and precision, recall, and F1 score for each.\n",
    "* `rouge-1` - the overlap of unigrams,\n",
    "* `rouge-2` - bigrams,\n",
    "* `rouge-l` - the longest common subsequence\n",
    "\n",
    "What's the F score for rouge-1?\n",
    "* **0.45**"
   ]
  },
  {
   "cell_type": "code",
   "execution_count": 12,
   "id": "1cecb512-522c-41b5-9f57-37720d8a2d6d",
   "metadata": {},
   "outputs": [
    {
     "data": {
      "text/plain": [
       "{'rouge-1': {'r': 0.45454545454545453,\n",
       "  'p': 0.45454545454545453,\n",
       "  'f': 0.45454544954545456},\n",
       " 'rouge-2': {'r': 0.21621621621621623,\n",
       "  'p': 0.21621621621621623,\n",
       "  'f': 0.21621621121621637},\n",
       " 'rouge-l': {'r': 0.3939393939393939,\n",
       "  'p': 0.3939393939393939,\n",
       "  'f': 0.393939388939394}}"
      ]
     },
     "execution_count": 12,
     "metadata": {},
     "output_type": "execute_result"
    }
   ],
   "source": [
    "from rouge import Rouge\n",
    "\n",
    "rouge_scorer = Rouge()\n",
    "\n",
    "r = df.loc[df['document'] == '5170565b']\n",
    "scores = rouge_scorer.get_scores(r['answer_llm'], r['answer_orig'])[0]\n",
    "scores"
   ]
  },
  {
   "cell_type": "markdown",
   "id": "fc82412c-7cc2-47e2-967b-9f52c9a78df0",
   "metadata": {},
   "source": [
    "## Q5. Average rouge score\n",
    "\n",
    "Let's compute the average between `rouge-1`, `rouge-2`, and `rouge-l` for the same record from Q4\n",
    "* **0.35**"
   ]
  },
  {
   "cell_type": "code",
   "execution_count": 13,
   "id": "bb8fd1ea-16fc-42b0-9b5d-de31b4450d73",
   "metadata": {},
   "outputs": [
    {
     "data": {
      "text/plain": [
       "0.35490034990035496"
      ]
     },
     "execution_count": 13,
     "metadata": {},
     "output_type": "execute_result"
    }
   ],
   "source": [
    "sum_f = 0\n",
    "for k, v in scores.items():\n",
    "    sum_f += v['f']\n",
    "    \n",
    "avg = sum_f / 3\n",
    "avg"
   ]
  },
  {
   "cell_type": "markdown",
   "id": "94ec5fe3-f668-4ed2-8fa2-f7dab59a8034",
   "metadata": {},
   "source": [
    "## Q6. Average rouge score for all the data points\n",
    "\n",
    "Now let's compute the score for all the records and create a dataframe from them.\n",
    "\n",
    "What's the agerage rouge_2 across all the records?\n",
    "* **0.20**"
   ]
  },
  {
   "cell_type": "code",
   "execution_count": 14,
   "id": "a4a185df-e65f-419f-8495-c20a7d8a43a9",
   "metadata": {},
   "outputs": [],
   "source": [
    "scores = rouge_scorer.get_scores(df['answer_llm'], df['answer_orig'])"
   ]
  },
  {
   "cell_type": "code",
   "execution_count": 15,
   "id": "aba45bb5-3b93-43b1-ac75-69cc40fcfe00",
   "metadata": {},
   "outputs": [
    {
     "data": {
      "text/plain": [
       "0.20696501983423318"
      ]
     },
     "execution_count": 15,
     "metadata": {},
     "output_type": "execute_result"
    }
   ],
   "source": [
    "df_scores = pd.DataFrame(scores)\n",
    "df_avg = df_scores.join(pd.json_normalize(df_scores['rouge-2'])).drop(columns='rouge-1')\n",
    "df_avg['f'].mean()"
   ]
  }
 ],
 "metadata": {
  "kernelspec": {
   "display_name": "Python 3 (ipykernel)",
   "language": "python",
   "name": "python3"
  },
  "language_info": {
   "codemirror_mode": {
    "name": "ipython",
    "version": 3
   },
   "file_extension": ".py",
   "mimetype": "text/x-python",
   "name": "python",
   "nbconvert_exporter": "python",
   "pygments_lexer": "ipython3",
   "version": "3.10.13"
  }
 },
 "nbformat": 4,
 "nbformat_minor": 5
}
